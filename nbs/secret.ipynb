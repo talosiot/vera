{
 "cells": [
  {
   "cell_type": "code",
   "execution_count": null,
   "id": "0913ebbd",
   "metadata": {},
   "outputs": [],
   "source": [
    "# default_exp secret\n",
    "# hide\n",
    "\n",
    "_FNAME='secret'\n",
    "\n",
    "import unittest\n",
    "from unittest import mock\n",
    "from nbdev.export import notebook2script\n",
    "import os\n",
    "\n",
    "TESTCASE = unittest.TestCase()\n",
    "_nbpath = os.path.join(_dh[0], _FNAME+'.ipynb')\n",
    "HERE = os.path.abspath('')"
   ]
  },
  {
   "cell_type": "code",
   "execution_count": null,
   "id": "5a2db5a1",
   "metadata": {},
   "outputs": [],
   "source": [
    "#export\n",
    "import boto3\n",
    "CLIENT = boto3.client('secretsmanager')"
   ]
  },
  {
   "cell_type": "code",
   "execution_count": null,
   "id": "6dd54cff",
   "metadata": {},
   "outputs": [],
   "source": [
    "#export \n",
    "from scylla import run_container, set_port_name\n",
    "import localstack_client.session\n",
    "\n",
    "def run_localstack(version=\"latest\", **kwargs):\n",
    "    env = {'SERVICES':'secretsmanager'}\n",
    "    additional_kwargs = {'environment': env}\n",
    "    additional_kwargs.update(kwargs)\n",
    "    #changing the port of localstack is hard and involves tinkering with the EDGE_PORT environment variable\n",
    "    #just leave it be\n",
    "    ports = {4566:4566}\n",
    "    image = 'localstack/localstack:{}'.format(version)\n",
    "    ls_container = run_container(image, ports=ports, block_until_port_available=4566,\n",
    "                                   **additional_kwargs)\n",
    "    ls_container = set_port_name(ls_container, 4566, 'entry')\n",
    "    return ls_container    \n",
    "\n",
    "def make_local_client():\n",
    "    session = localstack_client.session.Session()\n",
    "    return session.client('secretsmanager')"
   ]
  },
  {
   "cell_type": "code",
   "execution_count": null,
   "id": "e34fe1bd",
   "metadata": {},
   "outputs": [],
   "source": [
    "CONTAINER_NAME = 'localstack-vera-secret'\n",
    "ls_container = run_localstack(container_name=CONTAINER_NAME)"
   ]
  },
  {
   "cell_type": "code",
   "execution_count": null,
   "id": "854e2d32",
   "metadata": {},
   "outputs": [],
   "source": [
    "#export\n",
    "def get(name, client=None, **kwargs):\n",
    "    '''\n",
    "    Retrieves the secret with the given name\n",
    "    '''\n",
    "    client = client or CLIENT\n",
    "    resp = client.get_secret_value(SecretId=name, **kwargs)\n",
    "    str_value = resp.get('SecretString')\n",
    "    byte_value = resp.get('SecretBytes')\n",
    "    return str_value or byte_value\n",
    "\n",
    "def create(name, value, client=None, **kwargs):\n",
    "    '''\n",
    "    Create a new secret with Name=name\n",
    "    If you want SecretBytes instead of SecretString\n",
    "    set value=None and specify SecretBytes in kwargs\n",
    "    '''\n",
    "    client = client or CLIENT\n",
    "    if value is not None:\n",
    "        kwargs['SecretString'] = value\n",
    "    \n",
    "    resp = client.create_secret(Name=name, **kwargs)\n",
    "    ok = resp['ResponseMetadata']['HTTPStatusCode']==200\n",
    "    return ok, resp\n",
    "\n",
    "def update(name, value, client=None, **kwargs):\n",
    "    '''\n",
    "    Update the value of a secret with SecretId=name\n",
    "    '''\n",
    "    client = client or CLIENT\n",
    "    if value is not None:\n",
    "        kwargs['SecretString'] = value\n",
    "    \n",
    "    resp = client.put_secret_value(SecretId=name, **kwargs)    \n",
    "    ok = resp['ResponseMetadata']['HTTPStatusCode']==200\n",
    "    return ok, resp\n",
    "\n",
    "def delete(name, client=None, **kwargs):\n",
    "    '''\n",
    "    Schedule the secret with SecretId=name for deletion\n",
    "    '''\n",
    "    client = client or CLIENT\n",
    "    resp = client.delete_secret(SecretId=name, **kwargs)    \n",
    "    ok = resp['ResponseMetadata']['HTTPStatusCode']==200\n",
    "    return ok, resp"
   ]
  },
  {
   "cell_type": "markdown",
   "id": "16a2f664",
   "metadata": {},
   "source": [
    "Here is a non-automated test that engages the live aws service."
   ]
  },
  {
   "cell_type": "code",
   "execution_count": null,
   "id": "5e5ac36b",
   "metadata": {},
   "outputs": [],
   "source": [
    "import uuid\n",
    "def LIVE_test():\n",
    "    client = make_local_client()\n",
    "    \n",
    "    secret_name = 'unittest/{}'.format(uuid.uuid4())\n",
    "\n",
    "    ok, resp = create(secret_name, 'testvalue', client=client)\n",
    "    #print(ok, resp)\n",
    "    TESTCASE.assertTrue(ok)\n",
    "\n",
    "    TESTCASE.assertEqual( get(secret_name, client=client), 'testvalue')\n",
    "\n",
    "    ok, resp = update(secret_name, 'newvalue', client=client)\n",
    "    #print(ok, resp)\n",
    "    TESTCASE.assertTrue(ok)\n",
    "    TESTCASE.assertEqual( get(secret_name, client=client), 'newvalue')\n",
    "\n",
    "    ok, resp = delete(secret_name, client=client)\n",
    "    #print(ok, resp)\n",
    "\n",
    "    with TESTCASE.assertRaises(CLIENT.exceptions.InvalidRequestException):\n",
    "        get(secret_name, client=client)\n",
    "        \n",
    "LIVE_test()"
   ]
  },
  {
   "cell_type": "code",
   "execution_count": null,
   "id": "1f21910a",
   "metadata": {},
   "outputs": [],
   "source": [
    "ls_container.stop()"
   ]
  },
  {
   "cell_type": "code",
   "execution_count": null,
   "id": "0985ff63",
   "metadata": {},
   "outputs": [
    {
     "name": "stdout",
     "output_type": "stream",
     "text": [
      "Converted secret.ipynb.\n"
     ]
    }
   ],
   "source": [
    "notebook2script(_nbpath)"
   ]
  }
 ],
 "metadata": {
  "kernelspec": {
   "display_name": "Python 3",
   "language": "python",
   "name": "python3"
  }
 },
 "nbformat": 4,
 "nbformat_minor": 5
}
