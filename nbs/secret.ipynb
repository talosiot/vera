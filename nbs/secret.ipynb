{
 "cells": [
  {
   "cell_type": "code",
   "execution_count": null,
   "id": "af01bb83",
   "metadata": {},
   "outputs": [],
   "source": [
    "# default_exp secret\n",
    "# hide\n",
    "\n",
    "_FNAME='secret'\n",
    "\n",
    "import unittest\n",
    "from unittest import mock\n",
    "from nbdev.export import notebook2script\n",
    "import os\n",
    "\n",
    "TESTCASE = unittest.TestCase()\n",
    "_nbpath = os.path.join(_dh[0], _FNAME+'.ipynb')\n",
    "HERE = os.path.abspath('')"
   ]
  },
  {
   "cell_type": "code",
   "execution_count": null,
   "id": "e50f4a35",
   "metadata": {},
   "outputs": [],
   "source": [
    "#export\n",
    "import boto3\n",
    "CLIENT = boto3.client('secretsmanager')"
   ]
  },
  {
   "cell_type": "code",
   "execution_count": null,
   "id": "88d5812c",
   "metadata": {},
   "outputs": [],
   "source": [
    "#export\n",
    "def get(name, client=None, **kwargs):\n",
    "    '''\n",
    "    Retrieves the secret with the given name\n",
    "    '''\n",
    "    client = client or CLIENT\n",
    "    resp = client.get_secret_value(SecretId=name, **kwargs)\n",
    "    str_value = resp.get('SecretString')\n",
    "    byte_value = resp.get('SecretBytes')\n",
    "    return str_value or byte_value\n",
    "\n",
    "def create(name, value, client=None, **kwargs):\n",
    "    '''\n",
    "    Create a new secret with Name=name\n",
    "    If you want SecretBytes instead of SecretString\n",
    "    set value=None and specify SecretBytes in kwargs\n",
    "    '''\n",
    "    client = client or CLIENT\n",
    "    if value is not None:\n",
    "        kwargs['SecretString'] = value\n",
    "    \n",
    "    resp = client.create_secret(Name=name, **kwargs)\n",
    "    ok = resp['ResponseMetadata']['HTTPStatusCode']==200\n",
    "    return ok, resp\n",
    "\n",
    "def update(name, value, client=None, **kwargs):\n",
    "    '''\n",
    "    Update the value of a secret with SecretId=name\n",
    "    '''\n",
    "    client = client or CLIENT\n",
    "    if value is not None:\n",
    "        kwargs['SecretString'] = value\n",
    "    \n",
    "    resp = client.put_secret_value(SecretId=name, **kwargs)    \n",
    "    ok = resp['ResponseMetadata']['HTTPStatusCode']==200\n",
    "    return ok, resp\n",
    "\n",
    "def delete(name, client=None, **kwargs):\n",
    "    '''\n",
    "    Schedule the secret with SecretId=name for deletion\n",
    "    '''\n",
    "    client = client or CLIENT\n",
    "    resp = client.delete_secret(SecretId=name, **kwargs)    \n",
    "    ok = resp['ResponseMetadata']['HTTPStatusCode']==200\n",
    "    return ok, resp"
   ]
  },
  {
   "cell_type": "markdown",
   "id": "cde42b31",
   "metadata": {},
   "source": [
    "Here is a non-automated test that engages the live aws service."
   ]
  },
  {
   "cell_type": "code",
   "execution_count": null,
   "id": "bbea8a0b",
   "metadata": {},
   "outputs": [],
   "source": [
    "import uuid\n",
    "def LIVE_test():\n",
    "    secret_name = 'unittest/{}'.format(uuid.uuid4())\n",
    "\n",
    "    ok, resp = create(secret_name, 'testvalue')\n",
    "    #print(ok, resp)\n",
    "    TESTCASE.assertTrue(ok)\n",
    "\n",
    "    TESTCASE.assertEqual( get(secret_name), 'testvalue')\n",
    "\n",
    "    ok, resp = update(secret_name, 'newvalue')\n",
    "    #print(ok, resp)\n",
    "    TESTCASE.assertTrue(ok)\n",
    "    TESTCASE.assertEqual( get(secret_name), 'newvalue')\n",
    "\n",
    "    ok, resp = delete(secret_name)\n",
    "    #print(ok, resp)\n",
    "\n",
    "    with TESTCASE.assertRaises(CLIENT.exceptions.InvalidRequestException):\n",
    "        get(secret_name)\n",
    "        \n",
    "#LIVE_test()"
   ]
  },
  {
   "cell_type": "code",
   "execution_count": null,
   "id": "14a1cc60",
   "metadata": {},
   "outputs": [
    {
     "name": "stdout",
     "output_type": "stream",
     "text": [
      "Converted secret.ipynb.\n"
     ]
    }
   ],
   "source": [
    "notebook2script(_nbpath)"
   ]
  }
 ],
 "metadata": {
  "kernelspec": {
   "display_name": "Python 3",
   "language": "python",
   "name": "python3"
  }
 },
 "nbformat": 4,
 "nbformat_minor": 5
}
