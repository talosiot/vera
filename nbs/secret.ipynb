{
 "cells": [
  {
   "cell_type": "code",
   "execution_count": 1,
   "id": "5bfbd1f2",
   "metadata": {},
   "outputs": [],
   "source": [
    "# default_exp secret\n",
    "# hide\n",
    "\n",
    "_FNAME='secret'\n",
    "\n",
    "import unittest\n",
    "from unittest import mock\n",
    "from nbdev.export import notebook2script\n",
    "import os\n",
    "\n",
    "TESTCASE = unittest.TestCase()\n",
    "_nbpath = os.path.join(_dh[0], _FNAME+'.ipynb')\n",
    "HERE = os.path.abspath('')"
   ]
  },
  {
   "cell_type": "code",
   "execution_count": 2,
   "id": "c7e6302c",
   "metadata": {},
   "outputs": [],
   "source": [
    "#export\n",
    "import boto3\n",
    "CLIENT = boto3.client('secretsmanager')"
   ]
  },
  {
   "cell_type": "code",
   "execution_count": 3,
   "id": "f765746d",
   "metadata": {},
   "outputs": [],
   "source": [
    "#export \n",
    "from scylla import run_container, set_port_name\n",
    "import localstack_client.session\n",
    "\n",
    "def run_localstack(version=\"latest\", **kwargs):\n",
    "    env = {'SERVICES':'secretsmanager'}\n",
    "    additional_kwargs = {'environment': env}\n",
    "    additional_kwargs.update(kwargs)\n",
    "    #changing the port of localstack is hard and involves tinkering with the EDGE_PORT environment variable\n",
    "    #just leave it be\n",
    "    ports = {4566:4566}\n",
    "    image = 'localstack/localstack:{}'.format(version)\n",
    "    ls_container = run_container(image, ports=ports, block_until_port_available=4566,\n",
    "                                   **additional_kwargs)\n",
    "    ls_container = set_port_name(ls_container, 4566, 'entry')\n",
    "    return ls_container    \n",
    "\n",
    "def make_local_client():\n",
    "    session = localstack_client.session.Session()\n",
    "    return session.client('secretsmanager')"
   ]
  },
  {
   "cell_type": "code",
   "execution_count": 4,
   "id": "b7d0e815",
   "metadata": {},
   "outputs": [],
   "source": [
    "CONTAINER_NAME = 'localstack-vera-secret'\n",
    "ls_container = run_localstack(container_name=CONTAINER_NAME)"
   ]
  },
  {
   "cell_type": "code",
   "execution_count": 13,
   "id": "a4e2aa9c",
   "metadata": {},
   "outputs": [],
   "source": [
    "#export\n",
    "def get(name, client=None, fail_safely=False, **kwargs):\n",
    "    '''\n",
    "    Retrieves the secret with the given name\n",
    "    '''\n",
    "    client = client or CLIENT\n",
    "    try:\n",
    "        resp = client.get_secret_value(SecretId=name, **kwargs)\n",
    "    except client.exceptions.ResourceNotFoundException:\n",
    "        if fail_safely:\n",
    "            return None\n",
    "        raise    \n",
    "    str_value = resp.get('SecretString')\n",
    "    byte_value = resp.get('SecretBytes')\n",
    "    return str_value or byte_value\n",
    "\n",
    "def create(name, value, client=None, **kwargs):\n",
    "    '''\n",
    "    Create a new secret with Name=name\n",
    "    If you want SecretBytes instead of SecretString\n",
    "    set value=None and specify SecretBytes in kwargs\n",
    "    '''\n",
    "    client = client or CLIENT\n",
    "    if value is not None:\n",
    "        kwargs['SecretString'] = value\n",
    "    \n",
    "    resp = client.create_secret(Name=name, **kwargs)\n",
    "    ok = resp['ResponseMetadata']['HTTPStatusCode']==200\n",
    "    return ok, resp\n",
    "\n",
    "def update(name, value, client=None, **kwargs):\n",
    "    '''\n",
    "    Update the value of a secret with SecretId=name\n",
    "    '''\n",
    "    client = client or CLIENT\n",
    "    if value is not None:\n",
    "        kwargs['SecretString'] = value\n",
    "    \n",
    "    resp = client.put_secret_value(SecretId=name, **kwargs)    \n",
    "    ok = resp['ResponseMetadata']['HTTPStatusCode']==200\n",
    "    return ok, resp\n",
    "\n",
    "def delete(name, client=None, **kwargs):\n",
    "    '''\n",
    "    Schedule the secret with SecretId=name for deletion\n",
    "    '''\n",
    "    client = client or CLIENT\n",
    "    resp = client.delete_secret(SecretId=name, **kwargs)    \n",
    "    ok = resp['ResponseMetadata']['HTTPStatusCode']==200\n",
    "    return ok, resp"
   ]
  },
  {
   "cell_type": "markdown",
   "id": "69cbc9a0",
   "metadata": {},
   "source": [
    "Here is a non-automated test that engages the live aws service."
   ]
  },
  {
   "cell_type": "code",
   "execution_count": 14,
   "id": "16007edf",
   "metadata": {},
   "outputs": [],
   "source": [
    "import uuid\n",
    "def LIVE_test():\n",
    "    client = make_local_client()\n",
    "    \n",
    "    secret_name = 'unittest/{}'.format(uuid.uuid4())\n",
    "\n",
    "    #get an secret before its created\n",
    "    with TESTCASE.assertRaises(client.exceptions.ResourceNotFoundException):\n",
    "        get(secret_name, client=client)\n",
    "    TESTCASE.assertIsNone(get(secret_name, client=client, fail_safely=True))\n",
    "    ok, resp = create(secret_name, 'testvalue', client=client)\n",
    "    #print(ok, resp)\n",
    "    TESTCASE.assertTrue(ok)\n",
    "\n",
    "    TESTCASE.assertEqual( get(secret_name, client=client), 'testvalue')\n",
    "\n",
    "    ok, resp = update(secret_name, 'newvalue', client=client)\n",
    "    #print(ok, resp)\n",
    "    TESTCASE.assertTrue(ok)\n",
    "    TESTCASE.assertEqual( get(secret_name, client=client), 'newvalue')\n",
    "\n",
    "    ok, resp = delete(secret_name, client=client)\n",
    "    #print(ok, resp)\n",
    "\n",
    "    with TESTCASE.assertRaises(CLIENT.exceptions.InvalidRequestException):\n",
    "        get(secret_name, client=client)\n",
    "        \n",
    "LIVE_test()"
   ]
  },
  {
   "cell_type": "code",
   "execution_count": 15,
   "id": "10144064",
   "metadata": {},
   "outputs": [],
   "source": [
    "ls_container.stop()"
   ]
  },
  {
   "cell_type": "code",
   "execution_count": 16,
   "id": "0b3c7564",
   "metadata": {},
   "outputs": [
    {
     "name": "stdout",
     "output_type": "stream",
     "text": [
      "Converted secret.ipynb.\n"
     ]
    }
   ],
   "source": [
    "notebook2script(_nbpath)"
   ]
  }
 ],
 "metadata": {
  "kernelspec": {
   "display_name": "Python 3",
   "language": "python",
   "name": "python3"
  },
  "language_info": {
   "codemirror_mode": {
    "name": "ipython",
    "version": 3
   },
   "file_extension": ".py",
   "mimetype": "text/x-python",
   "name": "python",
   "nbconvert_exporter": "python",
   "pygments_lexer": "ipython3",
   "version": "3.8.5"
  }
 },
 "nbformat": 4,
 "nbformat_minor": 5
}
