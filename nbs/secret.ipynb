{
 "cells": [
  {
   "cell_type": "code",
   "execution_count": null,
   "id": "0ee707db",
   "metadata": {},
   "outputs": [],
   "source": [
    "# default_exp secret\n",
    "# hide\n",
    "\n",
    "_FNAME='secret'\n",
    "\n",
    "import unittest\n",
    "from unittest import mock\n",
    "from nbdev.export import notebook2script\n",
    "import os\n",
    "\n",
    "TESTCASE = unittest.TestCase()\n",
    "_nbpath = os.path.join(_dh[0], _FNAME+'.ipynb')\n",
    "HERE = os.path.abspath('')"
   ]
  },
  {
   "cell_type": "code",
   "execution_count": null,
   "id": "8657df32",
   "metadata": {},
   "outputs": [],
   "source": [
    "#export\n",
    "import boto3\n",
    "CLIENT = boto3.client('secretsmanager')"
   ]
  },
  {
   "cell_type": "code",
   "execution_count": null,
   "id": "0b976b87",
   "metadata": {},
   "outputs": [],
   "source": [
    "import ichorlib.testtools as TT\n",
    "import localstack_client.session\n",
    "\n",
    "def run_localstack(version=\"latest\", **kwargs):\n",
    "    env = {'SERVICES':'secretsmanager'}\n",
    "    additional_kwargs = {'environment': env}\n",
    "    additional_kwargs.update(kwargs)\n",
    "    ports = {4566:4566}\n",
    "    image = 'localstack/localstack:{}'.format(version)\n",
    "    ls_container = TT.run_container(image, ports=ports, block_until_port_available=4566,\n",
    "                                   **additional_kwargs)\n",
    "    ls_container = TT.set_port_name(ls_container, 4566, 'entry')\n",
    "    return ls_container    \n",
    "\n",
    "def make_local_client():\n",
    "    session = localstack_client.session.Session()\n",
    "    return session.client('secretsmanager')\n",
    "\n",
    "CONTAINER_NAME = 'localstack-vera-secret'"
   ]
  },
  {
   "cell_type": "code",
   "execution_count": null,
   "id": "270e84d5",
   "metadata": {},
   "outputs": [],
   "source": [
    "#export\n",
    "def get(name, client=None, **kwargs):\n",
    "    '''\n",
    "    Retrieves the secret with the given name\n",
    "    '''\n",
    "    client = client or CLIENT\n",
    "    resp = client.get_secret_value(SecretId=name, **kwargs)\n",
    "    str_value = resp.get('SecretString')\n",
    "    byte_value = resp.get('SecretBytes')\n",
    "    return str_value or byte_value\n",
    "\n",
    "def create(name, value, client=None, **kwargs):\n",
    "    '''\n",
    "    Create a new secret with Name=name\n",
    "    If you want SecretBytes instead of SecretString\n",
    "    set value=None and specify SecretBytes in kwargs\n",
    "    '''\n",
    "    client = client or CLIENT\n",
    "    if value is not None:\n",
    "        kwargs['SecretString'] = value\n",
    "    \n",
    "    resp = client.create_secret(Name=name, **kwargs)\n",
    "    ok = resp['ResponseMetadata']['HTTPStatusCode']==200\n",
    "    return ok, resp\n",
    "\n",
    "def update(name, value, client=None, **kwargs):\n",
    "    '''\n",
    "    Update the value of a secret with SecretId=name\n",
    "    '''\n",
    "    client = client or CLIENT\n",
    "    if value is not None:\n",
    "        kwargs['SecretString'] = value\n",
    "    \n",
    "    resp = client.put_secret_value(SecretId=name, **kwargs)    \n",
    "    ok = resp['ResponseMetadata']['HTTPStatusCode']==200\n",
    "    return ok, resp\n",
    "\n",
    "def delete(name, client=None, **kwargs):\n",
    "    '''\n",
    "    Schedule the secret with SecretId=name for deletion\n",
    "    '''\n",
    "    client = client or CLIENT\n",
    "    resp = client.delete_secret(SecretId=name, **kwargs)    \n",
    "    ok = resp['ResponseMetadata']['HTTPStatusCode']==200\n",
    "    return ok, resp"
   ]
  },
  {
   "cell_type": "markdown",
   "id": "bcf1eeb8",
   "metadata": {},
   "source": [
    "Here is a non-automated test that engages the live aws service."
   ]
  },
  {
   "cell_type": "code",
   "execution_count": null,
   "id": "90dcc421",
   "metadata": {},
   "outputs": [
    {
     "ename": "NameError",
     "evalue": "name 'CONTAINER_NAME' is not defined",
     "output_type": "error",
     "traceback": [
      "\u001b[0;31m---------------------------------------------------------------------------\u001b[0m",
      "\u001b[0;31mNameError\u001b[0m                                 Traceback (most recent call last)",
      "\u001b[0;32m<ipython-input-5-b467fe5c8d55>\u001b[0m in \u001b[0;36m<module>\u001b[0;34m\u001b[0m\n\u001b[1;32m     23\u001b[0m         \u001b[0mget\u001b[0m\u001b[0;34m(\u001b[0m\u001b[0msecret_name\u001b[0m\u001b[0;34m,\u001b[0m \u001b[0mclient\u001b[0m\u001b[0;34m=\u001b[0m\u001b[0mclient\u001b[0m\u001b[0;34m)\u001b[0m\u001b[0;34m\u001b[0m\u001b[0;34m\u001b[0m\u001b[0m\n\u001b[1;32m     24\u001b[0m \u001b[0;34m\u001b[0m\u001b[0m\n\u001b[0;32m---> 25\u001b[0;31m \u001b[0mLIVE_test\u001b[0m\u001b[0;34m(\u001b[0m\u001b[0;34m)\u001b[0m\u001b[0;34m\u001b[0m\u001b[0;34m\u001b[0m\u001b[0m\n\u001b[0m",
      "\u001b[0;32m<ipython-input-5-b467fe5c8d55>\u001b[0m in \u001b[0;36mLIVE_test\u001b[0;34m()\u001b[0m\n\u001b[1;32m      1\u001b[0m \u001b[0;32mimport\u001b[0m \u001b[0muuid\u001b[0m\u001b[0;34m\u001b[0m\u001b[0;34m\u001b[0m\u001b[0m\n\u001b[1;32m      2\u001b[0m \u001b[0;32mdef\u001b[0m \u001b[0mLIVE_test\u001b[0m\u001b[0;34m(\u001b[0m\u001b[0;34m)\u001b[0m\u001b[0;34m:\u001b[0m\u001b[0;34m\u001b[0m\u001b[0;34m\u001b[0m\u001b[0m\n\u001b[0;32m----> 3\u001b[0;31m     \u001b[0mls_container\u001b[0m \u001b[0;34m=\u001b[0m \u001b[0mrun_localstack\u001b[0m\u001b[0;34m(\u001b[0m\u001b[0mcontainer_name\u001b[0m\u001b[0;34m=\u001b[0m\u001b[0mCONTAINER_NAME\u001b[0m\u001b[0;34m)\u001b[0m\u001b[0;34m\u001b[0m\u001b[0;34m\u001b[0m\u001b[0m\n\u001b[0m\u001b[1;32m      4\u001b[0m     \u001b[0mclient\u001b[0m \u001b[0;34m=\u001b[0m \u001b[0mmake_local_client\u001b[0m\u001b[0;34m(\u001b[0m\u001b[0;34m)\u001b[0m\u001b[0;34m\u001b[0m\u001b[0;34m\u001b[0m\u001b[0m\n\u001b[1;32m      5\u001b[0m \u001b[0;34m\u001b[0m\u001b[0m\n",
      "\u001b[0;31mNameError\u001b[0m: name 'CONTAINER_NAME' is not defined"
     ]
    }
   ],
   "source": [
    "import uuid\n",
    "def LIVE_test():\n",
    "    ls_container = run_localstack(container_name=CONTAINER_NAME)\n",
    "    client = make_local_client()\n",
    "    \n",
    "    secret_name = 'unittest/{}'.format(uuid.uuid4())\n",
    "\n",
    "    ok, resp = create(secret_name, 'testvalue', client=client)\n",
    "    #print(ok, resp)\n",
    "    TESTCASE.assertTrue(ok)\n",
    "\n",
    "    TESTCASE.assertEqual( get(secret_name, client=client), 'testvalue')\n",
    "\n",
    "    ok, resp = update(secret_name, 'newvalue', client=client)\n",
    "    #print(ok, resp)\n",
    "    TESTCASE.assertTrue(ok)\n",
    "    TESTCASE.assertEqual( get(secret_name, client=client), 'newvalue')\n",
    "\n",
    "    ok, resp = delete(secret_name, client=client)\n",
    "    #print(ok, resp)\n",
    "\n",
    "    with TESTCASE.assertRaises(CLIENT.exceptions.InvalidRequestException):\n",
    "        get(secret_name, client=client)\n",
    "        \n",
    "LIVE_test()"
   ]
  },
  {
   "cell_type": "code",
   "execution_count": null,
   "id": "a44866c2",
   "metadata": {},
   "outputs": [
    {
     "name": "stdout",
     "output_type": "stream",
     "text": [
      "Converted secret.ipynb.\n"
     ]
    }
   ],
   "source": [
    "notebook2script(_nbpath)"
   ]
  }
 ],
 "metadata": {
  "kernelspec": {
   "display_name": "Python 3",
   "language": "python",
   "name": "python3"
  }
 },
 "nbformat": 4,
 "nbformat_minor": 5
}
