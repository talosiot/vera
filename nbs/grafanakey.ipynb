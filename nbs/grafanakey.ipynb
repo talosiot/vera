{
 "cells": [
  {
   "cell_type": "code",
   "execution_count": null,
   "id": "103ee5eb",
   "metadata": {},
   "outputs": [],
   "source": [
    "# default_exp grafanakey\n",
    "# hide\n",
    "\n",
    "_FNAME='grafanakey'\n",
    "\n",
    "import unittest\n",
    "from unittest import mock\n",
    "from nbdev.export import notebook2script\n",
    "import os\n",
    "\n",
    "TESTCASE = unittest.TestCase()\n",
    "_nbpath = os.path.join(_dh[0], _FNAME+'.ipynb')\n",
    "HERE = os.path.abspath('')"
   ]
  },
  {
   "cell_type": "code",
   "execution_count": null,
   "id": "c9c7bd17",
   "metadata": {},
   "outputs": [],
   "source": [
    "#export\n",
    "import vera.secret as secret\n"
   ]
  },
  {
   "cell_type": "code",
   "execution_count": null,
   "id": "dcd69aeb",
   "metadata": {},
   "outputs": [],
   "source": [
    "CONTAINER_NAME='localstack-vera-grafanakey'\n",
    "#ls_container = secret.run_localstack(container_name=CONTAINER_NAME)"
   ]
  },
  {
   "cell_type": "code",
   "execution_count": null,
   "id": "6d579e13",
   "metadata": {},
   "outputs": [],
   "source": [
    "#export\n",
    "\n",
    "def name(host, org):\n",
    "    '''\n",
    "    host is the grafana host.  e.g. dashboard.talosiot.com\n",
    "    org is the organization number. e.g. 7\n",
    "    '''\n",
    "    return \"grafana/{h}/org/{org}\".format(h=host, org=org)\n",
    "\n",
    "def create(host, org, key, **kwargs):\n",
    "    value = key\n",
    "    keyname = name(host, org)\n",
    "    return secret.create(name=keyname, value=value, **kwargs)\n",
    "\n",
    "def update(host, org, key, **kwargs):\n",
    "    value = key\n",
    "    keyname = name(host, org)\n",
    "    return secret.update(name=keyname, value=value, **kwargs)\n",
    "\n",
    "def get(host, org, **kwargs):\n",
    "    keyname = name(host, org)\n",
    "    return secret.get(name=keyname, **kwargs)\n",
    "\n",
    "def delete(host, org, **kwargs):\n",
    "    keyname = name(host, org)\n",
    "    return secret.delete(name=keyname, **kwargs)\n"
   ]
  },
  {
   "cell_type": "markdown",
   "id": "b0e1038f",
   "metadata": {},
   "source": [
    "Here is a non-automated test that engages the live aws service."
   ]
  },
  {
   "cell_type": "code",
   "execution_count": null,
   "id": "292ecedf",
   "metadata": {},
   "outputs": [],
   "source": [
    "import uuid\n",
    "def LIVE_test():\n",
    "    client = secret.make_local_client()\n",
    "    \n",
    "    host = 'localhost.{}'.format(uuid.uuid4())\n",
    "    org=999\n",
    "    key='key'\n",
    "    newkey='newkey'\n",
    "    \n",
    "    ok, resp = create(host, org, key, client=client)\n",
    "    print(ok, resp)\n",
    "    TESTCASE.assertTrue(ok)\n",
    "\n",
    "    TESTCASE.assertEqual( get(host, org, client=client), key)\n",
    "\n",
    "    ok, resp = update(host, org, newkey, client=client)\n",
    "    print(ok, resp)\n",
    "    TESTCASE.assertTrue(ok)\n",
    "    TESTCASE.assertEqual( get(host, org, client=client), newkey)\n",
    "\n",
    "    ok, resp = delete(host, org, client=client)\n",
    "    print(ok, resp)\n",
    "\n",
    "    with TESTCASE.assertRaises(secret.CLIENT.exceptions.InvalidRequestException):\n",
    "        get(host, org, client=client)\n",
    "        \n",
    "#LIVE_test()"
   ]
  },
  {
   "cell_type": "code",
   "execution_count": null,
   "id": "8687e034",
   "metadata": {},
   "outputs": [],
   "source": [
    "#ls_container.stop()"
   ]
  },
  {
   "cell_type": "code",
   "execution_count": null,
   "id": "0c3990d1",
   "metadata": {},
   "outputs": [
    {
     "name": "stdout",
     "output_type": "stream",
     "text": [
      "Converted grafanakey.ipynb.\n"
     ]
    }
   ],
   "source": [
    "notebook2script(_nbpath)"
   ]
  }
 ],
 "metadata": {
  "kernelspec": {
   "display_name": "Python 3",
   "language": "python",
   "name": "python3"
  }
 },
 "nbformat": 4,
 "nbformat_minor": 5
}
