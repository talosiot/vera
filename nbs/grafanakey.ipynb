{
 "cells": [
  {
   "cell_type": "code",
   "execution_count": null,
   "id": "f0d12ee4",
   "metadata": {},
   "outputs": [],
   "source": [
    "# default_exp grafanakey\n",
    "# hide\n",
    "\n",
    "_FNAME='grafanakey'\n",
    "\n",
    "import unittest\n",
    "from unittest import mock\n",
    "from nbdev.export import notebook2script\n",
    "import os\n",
    "\n",
    "TESTCASE = unittest.TestCase()\n",
    "_nbpath = os.path.join(_dh[0], _FNAME+'.ipynb')\n",
    "HERE = os.path.abspath('')"
   ]
  },
  {
   "cell_type": "code",
   "execution_count": null,
   "id": "5694bb0d",
   "metadata": {},
   "outputs": [],
   "source": [
    "#export\n",
    "import vera.secret as secret\n"
   ]
  },
  {
   "cell_type": "code",
   "execution_count": null,
   "id": "4edd873b",
   "metadata": {},
   "outputs": [],
   "source": [
    "CONTAINER_NAME='localstack-vera-grafanakey'\n",
    "ls_container = secret.run_localstack(container_name=CONTAINER_NAME)"
   ]
  },
  {
   "cell_type": "code",
   "execution_count": null,
   "id": "f91e9f42",
   "metadata": {},
   "outputs": [],
   "source": [
    "#export\n",
    "\n",
    "def name(host, org):\n",
    "    '''\n",
    "    host is the grafana host.  e.g. dashboard.talosiot.com\n",
    "    org is the organization number. e.g. 7\n",
    "    '''\n",
    "    return \"grafana/{h}/org/{org}\".format(h=host, org=org)\n",
    "\n",
    "def create(host, org, key, **kwargs):\n",
    "    value = key\n",
    "    keyname = name(host, org)\n",
    "    return secret.create(name=keyname, value=value, **kwargs)\n",
    "\n",
    "def update(host, org, key, **kwargs):\n",
    "    value = key\n",
    "    keyname = name(host, org)\n",
    "    return secret.update(name=keyname, value=value, **kwargs)\n",
    "\n",
    "def get(host, org, **kwargs):\n",
    "    keyname = name(host, org)\n",
    "    return secret.get(name=keyname, **kwargs)\n",
    "\n",
    "def delete(host, org, **kwargs):\n",
    "    keyname = name(host, org)\n",
    "    return secret.delete(name=keyname, **kwargs)\n"
   ]
  },
  {
   "cell_type": "markdown",
   "id": "8147a7d6",
   "metadata": {},
   "source": [
    "Here is a non-automated test that engages the live aws service."
   ]
  },
  {
   "cell_type": "code",
   "execution_count": null,
   "id": "fd903499",
   "metadata": {},
   "outputs": [
    {
     "name": "stdout",
     "output_type": "stream",
     "text": [
      "True {'ARN': 'arn:aws:secretsmanager:us-east-1:000000000000:secret:grafana/localhost.6fcbf159-9a01-44f4-b660-fe67fe299d66/org/999-dVeCZ', 'Name': 'grafana/localhost.6fcbf159-9a01-44f4-b660-fe67fe299d66/org/999', 'VersionId': 'f0e60de0-e73b-4756-b7d7-c8716869a2b8', 'ResponseMetadata': {'HTTPStatusCode': 200, 'HTTPHeaders': {'content-type': 'text/html; charset=utf-8', 'content-length': '259', 'access-control-allow-origin': '*', 'access-control-allow-methods': 'HEAD,GET,PUT,POST,DELETE,OPTIONS,PATCH', 'access-control-allow-headers': 'authorization,content-type,content-length,content-md5,cache-control,x-amz-content-sha256,x-amz-date,x-amz-security-token,x-amz-user-agent,x-amz-target,x-amz-acl,x-amz-version-id,x-localstack-target,x-amz-tagging', 'access-control-expose-headers': 'x-amz-version-id', 'connection': 'close', 'date': 'Tue, 06 Apr 2021 17:58:51 GMT', 'server': 'hypercorn-h11'}, 'RetryAttempts': 0}}\n",
      "True {'ARN': 'arn:aws:secretsmanager:us-east-1:000000000000:secret:grafana/localhost.6fcbf159-9a01-44f4-b660-fe67fe299d66/org/999-dVeCZ', 'Name': 'grafana/localhost.6fcbf159-9a01-44f4-b660-fe67fe299d66/org/999', 'VersionId': '89babd35-59ba-43d0-bd98-25f10caac92e', 'ResponseMetadata': {'HTTPStatusCode': 200, 'HTTPHeaders': {'content-type': 'text/html; charset=utf-8', 'content-length': '282', 'access-control-allow-origin': '*', 'access-control-allow-methods': 'HEAD,GET,PUT,POST,DELETE,OPTIONS,PATCH', 'access-control-allow-headers': 'authorization,content-type,content-length,content-md5,cache-control,x-amz-content-sha256,x-amz-date,x-amz-security-token,x-amz-user-agent,x-amz-target,x-amz-acl,x-amz-version-id,x-localstack-target,x-amz-tagging', 'access-control-expose-headers': 'x-amz-version-id', 'connection': 'close', 'date': 'Tue, 06 Apr 2021 17:58:51 GMT', 'server': 'hypercorn-h11'}, 'RetryAttempts': 0}}\n",
      "True {'ARN': 'arn:aws:secretsmanager:us-east-1:000000000000:secret:grafana/localhost.6fcbf159-9a01-44f4-b660-fe67fe299d66/org/999-dVeCZ', 'Name': 'grafana/localhost.6fcbf159-9a01-44f4-b660-fe67fe299d66/org/999', 'DeletionDate': datetime.datetime(2021, 5, 6, 17, 58, 51, 811343, tzinfo=tzlocal()), 'ResponseMetadata': {'HTTPStatusCode': 200, 'HTTPHeaders': {'content-type': 'text/html; charset=utf-8', 'content-length': '241', 'access-control-allow-origin': '*', 'access-control-allow-methods': 'HEAD,GET,PUT,POST,DELETE,OPTIONS,PATCH', 'access-control-allow-headers': 'authorization,content-type,content-length,content-md5,cache-control,x-amz-content-sha256,x-amz-date,x-amz-security-token,x-amz-user-agent,x-amz-target,x-amz-acl,x-amz-version-id,x-localstack-target,x-amz-tagging', 'access-control-expose-headers': 'x-amz-version-id', 'connection': 'close', 'date': 'Tue, 06 Apr 2021 17:58:51 GMT', 'server': 'hypercorn-h11'}, 'RetryAttempts': 0}}\n"
     ]
    }
   ],
   "source": [
    "import uuid\n",
    "def LIVE_test():\n",
    "    client = secret.make_local_client()\n",
    "    \n",
    "    host = 'localhost.{}'.format(uuid.uuid4())\n",
    "    org=999\n",
    "    key='key'\n",
    "    newkey='newkey'\n",
    "    \n",
    "    ok, resp = create(host, org, key, client=client)\n",
    "    print(ok, resp)\n",
    "    TESTCASE.assertTrue(ok)\n",
    "\n",
    "    TESTCASE.assertEqual( get(host, org, client=client), key)\n",
    "\n",
    "    ok, resp = update(host, org, newkey, client=client)\n",
    "    print(ok, resp)\n",
    "    TESTCASE.assertTrue(ok)\n",
    "    TESTCASE.assertEqual( get(host, org, client=client), newkey)\n",
    "\n",
    "    ok, resp = delete(host, org, client=client)\n",
    "    print(ok, resp)\n",
    "\n",
    "    with TESTCASE.assertRaises(secret.CLIENT.exceptions.InvalidRequestException):\n",
    "        get(host, org, client=client)\n",
    "        \n",
    "LIVE_test()"
   ]
  },
  {
   "cell_type": "code",
   "execution_count": null,
   "id": "673fc7ae",
   "metadata": {},
   "outputs": [],
   "source": [
    "ls_container.stop()"
   ]
  },
  {
   "cell_type": "code",
   "execution_count": null,
   "id": "363eaaf6",
   "metadata": {},
   "outputs": [
    {
     "name": "stdout",
     "output_type": "stream",
     "text": [
      "Converted grafanakey.ipynb.\n"
     ]
    }
   ],
   "source": [
    "notebook2script(_nbpath)"
   ]
  }
 ],
 "metadata": {
  "kernelspec": {
   "display_name": "Python 3",
   "language": "python",
   "name": "python3"
  }
 },
 "nbformat": 4,
 "nbformat_minor": 5
}
