{
 "cells": [
  {
   "cell_type": "code",
   "execution_count": null,
   "id": "2f9a2535",
   "metadata": {},
   "outputs": [],
   "source": [
    "# default_exp grafanakey\n",
    "# hide\n",
    "\n",
    "_FNAME='grafanakey'\n",
    "\n",
    "import unittest\n",
    "from unittest import mock\n",
    "from nbdev.export import notebook2script\n",
    "import os\n",
    "\n",
    "TESTCASE = unittest.TestCase()\n",
    "_nbpath = os.path.join(_dh[0], _FNAME+'.ipynb')\n",
    "HERE = os.path.abspath('')"
   ]
  },
  {
   "cell_type": "code",
   "execution_count": null,
   "id": "5ce9026c",
   "metadata": {},
   "outputs": [],
   "source": [
    "#export\n",
    "import vera.secret as secret\n"
   ]
  },
  {
   "cell_type": "code",
   "execution_count": null,
   "id": "31ab76af",
   "metadata": {},
   "outputs": [],
   "source": [
    "CONTAINER_NAME='localstack-vera-grafanakey'\n",
    "ls_container = secret.run_localstack(container_name=CONTAINER_NAME)"
   ]
  },
  {
   "cell_type": "code",
   "execution_count": null,
   "id": "956e4f6d",
   "metadata": {},
   "outputs": [],
   "source": [
    "#export\n",
    "\n",
    "def _name(host, org):\n",
    "    '''\n",
    "    host is the grafana host.  e.g. dashboard.talosiot.com\n",
    "    org is the organization number. e.g. 7\n",
    "    '''\n",
    "    return \"grafana/{h}/org/{org}\".format(h=host, org=org)\n",
    "\n",
    "def create(host, org, key, **kwargs):\n",
    "    value = key\n",
    "    name = _name(host, org)\n",
    "    return secret.create(name=name, value=value, **kwargs)\n",
    "\n",
    "def update(host, org, key, **kwargs):\n",
    "    value = key\n",
    "    name = _name(host, org)\n",
    "    return secret.update(name=name, value=value, **kwargs)\n",
    "\n",
    "def get(host, org, **kwargs):\n",
    "    name = _name(host, org)\n",
    "    return secret.get(name=name, **kwargs)\n",
    "\n",
    "def delete(host, org, **kwargs):\n",
    "    name = _name(host, org)\n",
    "    return secret.delete(name=name, **kwargs)\n"
   ]
  },
  {
   "cell_type": "markdown",
   "id": "5a680d3b",
   "metadata": {},
   "source": [
    "Here is a non-automated test that engages the live aws service."
   ]
  },
  {
   "cell_type": "code",
   "execution_count": null,
   "id": "ee62ab68",
   "metadata": {},
   "outputs": [
    {
     "name": "stdout",
     "output_type": "stream",
     "text": [
      "True {'ARN': 'arn:aws:secretsmanager:us-east-1:000000000000:secret:grafana/localhost.f4f2fee8-c05e-4d45-89d2-fd9ee006e047/org/999-sGiTm', 'Name': 'grafana/localhost.f4f2fee8-c05e-4d45-89d2-fd9ee006e047/org/999', 'VersionId': '3c7a4c1c-935e-44a0-bcbd-3d98dc54aa3c', 'ResponseMetadata': {'HTTPStatusCode': 200, 'HTTPHeaders': {'content-type': 'text/html; charset=utf-8', 'content-length': '259', 'access-control-allow-origin': '*', 'access-control-allow-methods': 'HEAD,GET,PUT,POST,DELETE,OPTIONS,PATCH', 'access-control-allow-headers': 'authorization,content-type,content-length,content-md5,cache-control,x-amz-content-sha256,x-amz-date,x-amz-security-token,x-amz-user-agent,x-amz-target,x-amz-acl,x-amz-version-id,x-localstack-target,x-amz-tagging', 'access-control-expose-headers': 'x-amz-version-id', 'connection': 'close', 'date': 'Tue, 06 Apr 2021 16:11:47 GMT', 'server': 'hypercorn-h11'}, 'RetryAttempts': 0}}\n",
      "True {'ARN': 'arn:aws:secretsmanager:us-east-1:000000000000:secret:grafana/localhost.f4f2fee8-c05e-4d45-89d2-fd9ee006e047/org/999-sGiTm', 'Name': 'grafana/localhost.f4f2fee8-c05e-4d45-89d2-fd9ee006e047/org/999', 'VersionId': '323eef64-1454-4f38-9993-8e204580bb0c', 'ResponseMetadata': {'HTTPStatusCode': 200, 'HTTPHeaders': {'content-type': 'text/html; charset=utf-8', 'content-length': '282', 'access-control-allow-origin': '*', 'access-control-allow-methods': 'HEAD,GET,PUT,POST,DELETE,OPTIONS,PATCH', 'access-control-allow-headers': 'authorization,content-type,content-length,content-md5,cache-control,x-amz-content-sha256,x-amz-date,x-amz-security-token,x-amz-user-agent,x-amz-target,x-amz-acl,x-amz-version-id,x-localstack-target,x-amz-tagging', 'access-control-expose-headers': 'x-amz-version-id', 'connection': 'close', 'date': 'Tue, 06 Apr 2021 16:11:47 GMT', 'server': 'hypercorn-h11'}, 'RetryAttempts': 0}}\n",
      "True {'ARN': 'arn:aws:secretsmanager:us-east-1:000000000000:secret:grafana/localhost.f4f2fee8-c05e-4d45-89d2-fd9ee006e047/org/999-sGiTm', 'Name': 'grafana/localhost.f4f2fee8-c05e-4d45-89d2-fd9ee006e047/org/999', 'DeletionDate': datetime.datetime(2021, 5, 6, 16, 11, 48, 35970, tzinfo=tzlocal()), 'ResponseMetadata': {'HTTPStatusCode': 200, 'HTTPHeaders': {'content-type': 'text/html; charset=utf-8', 'content-length': '240', 'access-control-allow-origin': '*', 'access-control-allow-methods': 'HEAD,GET,PUT,POST,DELETE,OPTIONS,PATCH', 'access-control-allow-headers': 'authorization,content-type,content-length,content-md5,cache-control,x-amz-content-sha256,x-amz-date,x-amz-security-token,x-amz-user-agent,x-amz-target,x-amz-acl,x-amz-version-id,x-localstack-target,x-amz-tagging', 'access-control-expose-headers': 'x-amz-version-id', 'connection': 'close', 'date': 'Tue, 06 Apr 2021 16:11:48 GMT', 'server': 'hypercorn-h11'}, 'RetryAttempts': 0}}\n"
     ]
    }
   ],
   "source": [
    "import uuid\n",
    "def LIVE_test():\n",
    "    client = secret.make_local_client()\n",
    "    \n",
    "    host = 'localhost.{}'.format(uuid.uuid4())\n",
    "    org=999\n",
    "    key='key'\n",
    "    newkey='newkey'\n",
    "    \n",
    "    ok, resp = create(host, org, key, client=client)\n",
    "    print(ok, resp)\n",
    "    TESTCASE.assertTrue(ok)\n",
    "\n",
    "    TESTCASE.assertEqual( get(host, org, client=client), key)\n",
    "\n",
    "    ok, resp = update(host, org, newkey, client=client)\n",
    "    print(ok, resp)\n",
    "    TESTCASE.assertTrue(ok)\n",
    "    TESTCASE.assertEqual( get(host, org, client=client), newkey)\n",
    "\n",
    "    ok, resp = delete(host, org, client=client)\n",
    "    print(ok, resp)\n",
    "\n",
    "    with TESTCASE.assertRaises(secret.CLIENT.exceptions.InvalidRequestException):\n",
    "        get(host, org, client=client)\n",
    "        \n",
    "LIVE_test()"
   ]
  },
  {
   "cell_type": "code",
   "execution_count": null,
   "id": "8feb0d43",
   "metadata": {},
   "outputs": [],
   "source": [
    "ls_container.stop()"
   ]
  },
  {
   "cell_type": "code",
   "execution_count": null,
   "id": "0f3f747e",
   "metadata": {},
   "outputs": [
    {
     "name": "stdout",
     "output_type": "stream",
     "text": [
      "Converted grafanakey.ipynb.\n"
     ]
    }
   ],
   "source": [
    "notebook2script(_nbpath)"
   ]
  }
 ],
 "metadata": {
  "kernelspec": {
   "display_name": "Python 3",
   "language": "python",
   "name": "python3"
  }
 },
 "nbformat": 4,
 "nbformat_minor": 5
}
