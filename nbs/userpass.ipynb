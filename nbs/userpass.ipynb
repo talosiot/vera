{
 "cells": [
  {
   "cell_type": "code",
   "execution_count": null,
   "id": "8f0757ab",
   "metadata": {},
   "outputs": [],
   "source": [
    "# default_exp userpass\n",
    "# hide\n",
    "\n",
    "_FNAME='userpass'\n",
    "\n",
    "import unittest\n",
    "from unittest import mock\n",
    "from nbdev.export import notebook2script\n",
    "import os\n",
    "\n",
    "TESTCASE = unittest.TestCase()\n",
    "_nbpath = os.path.join(_dh[0], _FNAME+'.ipynb')\n",
    "HERE = os.path.abspath('')"
   ]
  },
  {
   "cell_type": "code",
   "execution_count": null,
   "id": "86349fb4",
   "metadata": {},
   "outputs": [],
   "source": [
    "#export\n",
    "import json\n",
    "import vera.secret as secret\n"
   ]
  },
  {
   "cell_type": "code",
   "execution_count": null,
   "id": "274faa2d",
   "metadata": {},
   "outputs": [],
   "source": [
    "CONTAINER_NAME='localstack-vera-userpass'\n",
    "ls_container = secret.run_localstack(container_name=CONTAINER_NAME)"
   ]
  },
  {
   "cell_type": "code",
   "execution_count": null,
   "id": "515141ca",
   "metadata": {},
   "outputs": [],
   "source": [
    "#export\n",
    "\n",
    "def dump(user, password):\n",
    "    assert user is not None\n",
    "    assert password is not None\n",
    "    return json.dumps([user, password])\n",
    "\n",
    "def load(userpass):\n",
    "    return json.loads(userpass)\n",
    "\n",
    "def _name(program, host, role=None, user=None):\n",
    "    if role:\n",
    "        suffix=\"role={}\".format(role)\n",
    "    else:\n",
    "        suffix=\"user={}\".format(user)\n",
    "    return \"{p}/{h}/userpass/{s}\".format(p=program, h=host, s=suffix)\n",
    "\n",
    "def create(program, host, role=None, user=None, password=None, **kwargs):\n",
    "    value = dump(user, password)\n",
    "    name = _name(program=program, host=host, role=role, user=user)\n",
    "    return secret.create(name=name, value=value, **kwargs)\n",
    "\n",
    "def get(program, host, role=None, user=None, **kwargs):\n",
    "    name = _name(program=program, host=host, role=role, user=user)\n",
    "    return load(secret.get(name=name, **kwargs))\n",
    "\n",
    "def update(program, host, role=None, user=None, password=None, **kwargs):\n",
    "    value = dump(user, password)\n",
    "    name = _name(program=program, host=host, role=role, user=user)\n",
    "    return secret.update(name=name, value=value, **kwargs)\n",
    "\n",
    "def delete(program, host, role=None, user=None, **kwargs):\n",
    "    name = _name(program=program, host=host, role=role, user=user)\n",
    "    return secret.delete(name=name, **kwargs)\n"
   ]
  },
  {
   "cell_type": "markdown",
   "id": "f36fc236",
   "metadata": {},
   "source": [
    "Here is a non-automated test that engages the live aws service."
   ]
  },
  {
   "cell_type": "code",
   "execution_count": null,
   "id": "6eb44c52",
   "metadata": {},
   "outputs": [
    {
     "name": "stdout",
     "output_type": "stream",
     "text": [
      "True {'ARN': 'arn:aws:secretsmanager:us-east-1:000000000000:secret:unittest/localhost.4a35a100-2ccf-4aaf-90c9-cf451e39b6de/userpass/role=admin-bsVuG', 'Name': 'unittest/localhost.4a35a100-2ccf-4aaf-90c9-cf451e39b6de/userpass/role=admin', 'VersionId': '4fd0d11e-1333-48e9-a6a9-fe9c32a5bfba', 'ResponseMetadata': {'HTTPStatusCode': 200, 'HTTPHeaders': {'content-type': 'text/html; charset=utf-8', 'content-length': '285', 'access-control-allow-origin': '*', 'access-control-allow-methods': 'HEAD,GET,PUT,POST,DELETE,OPTIONS,PATCH', 'access-control-allow-headers': 'authorization,content-type,content-length,content-md5,cache-control,x-amz-content-sha256,x-amz-date,x-amz-security-token,x-amz-user-agent,x-amz-target,x-amz-acl,x-amz-version-id,x-localstack-target,x-amz-tagging', 'access-control-expose-headers': 'x-amz-version-id', 'connection': 'close', 'date': 'Tue, 06 Apr 2021 16:08:21 GMT', 'server': 'hypercorn-h11'}, 'RetryAttempts': 0}}\n",
      "True {'ARN': 'arn:aws:secretsmanager:us-east-1:000000000000:secret:unittest/localhost.4a35a100-2ccf-4aaf-90c9-cf451e39b6de/userpass/role=admin-bsVuG', 'Name': 'unittest/localhost.4a35a100-2ccf-4aaf-90c9-cf451e39b6de/userpass/role=admin', 'VersionId': '2162c6ed-1b69-4614-89ed-82697432ebd9', 'ResponseMetadata': {'HTTPStatusCode': 200, 'HTTPHeaders': {'content-type': 'text/html; charset=utf-8', 'content-length': '308', 'access-control-allow-origin': '*', 'access-control-allow-methods': 'HEAD,GET,PUT,POST,DELETE,OPTIONS,PATCH', 'access-control-allow-headers': 'authorization,content-type,content-length,content-md5,cache-control,x-amz-content-sha256,x-amz-date,x-amz-security-token,x-amz-user-agent,x-amz-target,x-amz-acl,x-amz-version-id,x-localstack-target,x-amz-tagging', 'access-control-expose-headers': 'x-amz-version-id', 'connection': 'close', 'date': 'Tue, 06 Apr 2021 16:08:21 GMT', 'server': 'hypercorn-h11'}, 'RetryAttempts': 0}}\n",
      "True {'ARN': 'arn:aws:secretsmanager:us-east-1:000000000000:secret:unittest/localhost.4a35a100-2ccf-4aaf-90c9-cf451e39b6de/userpass/role=admin-bsVuG', 'Name': 'unittest/localhost.4a35a100-2ccf-4aaf-90c9-cf451e39b6de/userpass/role=admin', 'DeletionDate': datetime.datetime(2021, 5, 6, 16, 8, 21, 156149, tzinfo=tzlocal()), 'ResponseMetadata': {'HTTPStatusCode': 200, 'HTTPHeaders': {'content-type': 'text/html; charset=utf-8', 'content-length': '267', 'access-control-allow-origin': '*', 'access-control-allow-methods': 'HEAD,GET,PUT,POST,DELETE,OPTIONS,PATCH', 'access-control-allow-headers': 'authorization,content-type,content-length,content-md5,cache-control,x-amz-content-sha256,x-amz-date,x-amz-security-token,x-amz-user-agent,x-amz-target,x-amz-acl,x-amz-version-id,x-localstack-target,x-amz-tagging', 'access-control-expose-headers': 'x-amz-version-id', 'connection': 'close', 'date': 'Tue, 06 Apr 2021 16:08:21 GMT', 'server': 'hypercorn-h11'}, 'RetryAttempts': 0}}\n"
     ]
    }
   ],
   "source": [
    "import uuid\n",
    "def LIVE_test():\n",
    "    client = secret.make_local_client()\n",
    "    \n",
    "    program = 'unittest'\n",
    "    host = 'localhost.{}'.format(uuid.uuid4())\n",
    "    role='admin'\n",
    "    user='user'\n",
    "    password='pass'\n",
    "    newuser='newuser'\n",
    "    newpass='newpass'\n",
    "\n",
    "    ok, resp = create(program, host, role=role, user=user, password=password, client=client)\n",
    "    print(ok, resp)\n",
    "    TESTCASE.assertTrue(ok)\n",
    "\n",
    "    TESTCASE.assertEqual( get(program, host, role=role, client=client), [user, password])\n",
    "\n",
    "    ok, resp = update(program, host, role=role, user=newuser, password=newpass, client=client)\n",
    "    print(ok, resp)\n",
    "    TESTCASE.assertTrue(ok)\n",
    "    TESTCASE.assertEqual( get(program, host, role=role, client=client), [newuser, newpass])\n",
    "\n",
    "    ok, resp = delete(program, host, role=role, client=client)\n",
    "    print(ok, resp)\n",
    "\n",
    "    with TESTCASE.assertRaises(secret.CLIENT.exceptions.InvalidRequestException):\n",
    "        get(program, host, role=role, client=client)\n",
    "        \n",
    "LIVE_test()"
   ]
  },
  {
   "cell_type": "code",
   "execution_count": null,
   "id": "52bb902d",
   "metadata": {},
   "outputs": [],
   "source": [
    "ls_container.stop()"
   ]
  },
  {
   "cell_type": "code",
   "execution_count": null,
   "id": "52f86ca3",
   "metadata": {},
   "outputs": [
    {
     "name": "stdout",
     "output_type": "stream",
     "text": [
      "Converted userpass.ipynb.\n"
     ]
    }
   ],
   "source": [
    "notebook2script(_nbpath)"
   ]
  }
 ],
 "metadata": {
  "kernelspec": {
   "display_name": "Python 3",
   "language": "python",
   "name": "python3"
  }
 },
 "nbformat": 4,
 "nbformat_minor": 5
}
