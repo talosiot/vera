{
 "cells": [
  {
   "cell_type": "code",
   "execution_count": null,
   "id": "69f7209e",
   "metadata": {},
   "outputs": [],
   "source": [
    "# default_exp userpass\n",
    "# hide\n",
    "\n",
    "_FNAME='userpass'\n",
    "\n",
    "import unittest\n",
    "from unittest import mock\n",
    "from nbdev.export import notebook2script\n",
    "import os\n",
    "\n",
    "TESTCASE = unittest.TestCase()\n",
    "_nbpath = os.path.join(_dh[0], _FNAME+'.ipynb')\n",
    "HERE = os.path.abspath('')"
   ]
  },
  {
   "cell_type": "code",
   "execution_count": null,
   "id": "972ccf13",
   "metadata": {},
   "outputs": [],
   "source": [
    "#export\n",
    "import json\n",
    "import vera.secret as secret\n"
   ]
  },
  {
   "cell_type": "code",
   "execution_count": null,
   "id": "1202037c",
   "metadata": {},
   "outputs": [],
   "source": [
    "#export\n",
    "\n",
    "def dump(user, password):\n",
    "    assert user is not None\n",
    "    assert password is not None\n",
    "    return json.dumps([user, password])\n",
    "\n",
    "def load(userpass):\n",
    "    return json.loads(userpass)\n",
    "\n",
    "def _name(program, host, role=None, user=None):\n",
    "    if role:\n",
    "        suffix=\"role={}\".format(role)\n",
    "    else:\n",
    "        suffix=\"user={}\".format(user)\n",
    "    return \"{p}/{h}/userpass/{s}\".format(p=program, h=host, s=suffix)\n",
    "\n",
    "def create(program, host, role=None, user=None, password=None, **kwargs):\n",
    "    value = dump(user, password)\n",
    "    name = _name(program=program, host=host, role=role, user=user)\n",
    "    return secret.create(name=name, value=value, **kwargs)\n",
    "\n",
    "def get(program, host, role=None, user=None, **kwargs):\n",
    "    name = _name(program=program, host=host, role=role, user=user)\n",
    "    return load(secret.get(name=name, **kwargs))\n",
    "\n",
    "def update(program, host, role=None, user=None, password=None, **kwargs):\n",
    "    value = dump(user, password)\n",
    "    name = _name(program=program, host=host, role=role, user=user)\n",
    "    return secret.update(name=name, value=value, **kwargs)\n",
    "\n",
    "def delete(program, host, role=None, user=None, **kwargs):\n",
    "    name = _name(program=program, host=host, role=role, user=user)\n",
    "    return secret.delete(name=name, **kwargs)\n"
   ]
  },
  {
   "cell_type": "markdown",
   "id": "3186397b",
   "metadata": {},
   "source": [
    "Here is a non-automated test that engages the live aws service."
   ]
  },
  {
   "cell_type": "code",
   "execution_count": null,
   "id": "dcc9b516",
   "metadata": {},
   "outputs": [],
   "source": [
    "import uuid\n",
    "def LIVE_test():\n",
    "    program = 'unittest'\n",
    "    host = 'localhost.{}'.format(uuid.uuid4())\n",
    "    role='admin'\n",
    "    user='user'\n",
    "    password='pass'\n",
    "    newuser='newuser'\n",
    "    newpass='newpass'\n",
    "\n",
    "    ok, resp = create(program, host, role=role, user=user, password=password)\n",
    "    print(ok, resp)\n",
    "    TESTCASE.assertTrue(ok)\n",
    "\n",
    "    TESTCASE.assertEqual( get(program, host, role=role), [user, password])\n",
    "\n",
    "    ok, resp = update(program, host, role=role, user=newuser, password=newpass)\n",
    "    print(ok, resp)\n",
    "    TESTCASE.assertTrue(ok)\n",
    "    TESTCASE.assertEqual( get(program, host, role=role), [newuser, newpass])\n",
    "\n",
    "    ok, resp = delete(program, host, role=role)\n",
    "    print(ok, resp)\n",
    "\n",
    "    with TESTCASE.assertRaises(secret.CLIENT.exceptions.InvalidRequestException):\n",
    "        get(program, host, role=role)\n",
    "        \n",
    "#LIVE_test()"
   ]
  },
  {
   "cell_type": "code",
   "execution_count": null,
   "id": "290b11d3",
   "metadata": {},
   "outputs": [
    {
     "name": "stdout",
     "output_type": "stream",
     "text": [
      "Converted userpass.ipynb.\n"
     ]
    }
   ],
   "source": [
    "notebook2script(_nbpath)"
   ]
  }
 ],
 "metadata": {
  "kernelspec": {
   "display_name": "Python 3",
   "language": "python",
   "name": "python3"
  }
 },
 "nbformat": 4,
 "nbformat_minor": 5
}
